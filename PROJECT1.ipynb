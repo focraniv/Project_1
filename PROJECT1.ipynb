{
 "cells": [
  {
   "cell_type": "code",
   "execution_count": 132,
   "id": "5ef80a62",
   "metadata": {},
   "outputs": [],
   "source": [
    "import pandas as pd\n",
    "import numpy as np\n",
    "from pathlib import Path\n",
    "import panel as pn\n",
    "from panel.interact import interact\n",
    "import plotly.express as px\n",
    "pn.extension(\"plotly\")\n",
    "import hvplot.pandas\n",
    "import matplotlib.pyplot as plt\n",
    "import os\n",
    "from pathlib import Path\n",
    "from dotenv import load_dotenv\n",
    "import requests\n",
    "import json\n",
    "\n",
    "from datetime import datetime\n",
    "import alpaca_trade_api as tradeapi\n",
    "\n",
    "from dotenv import load_dotenv\n",
    "%matplotlib inline\n",
    "\n",
    "from pycoingecko import CoinGeckoAPI\n",
    "cg = CoinGeckoAPI()\n"
   ]
  },
  {
   "cell_type": "code",
   "execution_count": 133,
   "id": "813acd67",
   "metadata": {},
   "outputs": [
    {
     "data": {
      "text/plain": [
       "{'bitcoin': {'usd': 38337}}"
      ]
     },
     "execution_count": 133,
     "metadata": {},
     "output_type": "execute_result"
    }
   ],
   "source": [
    "cg.get_price(ids='bitcoin', vs_currencies='usd')"
   ]
  },
  {
   "cell_type": "code",
   "execution_count": 176,
   "id": "a8a30734",
   "metadata": {},
   "outputs": [],
   "source": [
    " btc = requests.get('https://api.coingecko.com/api/v3/coins/bitcoin/market_chart?vs_currency=usd&days=10&interval=daily')"
   ]
  },
  {
   "cell_type": "code",
   "execution_count": 177,
   "id": "c3931f06",
   "metadata": {},
   "outputs": [
    {
     "data": {
      "text/plain": [
       "{'prices': [[1642896000000, 35180.435462830384],\n",
       "  [1642982400000, 36306.409440464704],\n",
       "  [1643068800000, 36774.00714224005],\n",
       "  [1643155200000, 36988.928510667356],\n",
       "  [1643241600000, 36870.440166930995],\n",
       "  [1643328000000, 37276.839558174994],\n",
       "  [1643414400000, 37852.57902803263],\n",
       "  [1643500800000, 38232.17873217708],\n",
       "  [1643587200000, 37983.151499406464],\n",
       "  [1643673600000, 38555.53446121157],\n",
       "  [1643681150000, 38304.15901331096]],\n",
       " 'market_caps': [[1642896000000, 666220701468.4846],\n",
       "  [1642982400000, 687575973800.0704],\n",
       "  [1643068800000, 696465421899.37],\n",
       "  [1643155200000, 700571452648.8236],\n",
       "  [1643241600000, 700165819656.2855],\n",
       "  [1643328000000, 702311456032.8538],\n",
       "  [1643414400000, 717026944842.8334],\n",
       "  [1643500800000, 722829009646.1814],\n",
       "  [1643587200000, 719570142321.8397],\n",
       "  [1643673600000, 727905398095.9747],\n",
       "  [1643681150000, 725923113139.0083]],\n",
       " 'total_volumes': [[1642896000000, 35517336417.257744],\n",
       "  [1642982400000, 22865032968.608204],\n",
       "  [1643068800000, 36385158448.60688],\n",
       "  [1643155200000, 46168918584.85349],\n",
       "  [1643241600000, 26756873749.744743],\n",
       "  [1643328000000, 22057410457.280827],\n",
       "  [1643414400000, 19214103304.052933],\n",
       "  [1643500800000, 14178650231.62196],\n",
       "  [1643587200000, 11807185113.633108],\n",
       "  [1643673600000, 17731563487.283978],\n",
       "  [1643681150000, 16487709192.323862]]}"
      ]
     },
     "execution_count": 177,
     "metadata": {},
     "output_type": "execute_result"
    }
   ],
   "source": [
    "btc = btc.json()\n",
    "btc"
   ]
  },
  {
   "cell_type": "code",
   "execution_count": 178,
   "id": "eebe48c8",
   "metadata": {},
   "outputs": [
    {
     "data": {
      "text/plain": [
       "[[1642896000000, 35180.435462830384],\n",
       " [1642982400000, 36306.409440464704],\n",
       " [1643068800000, 36774.00714224005],\n",
       " [1643155200000, 36988.928510667356],\n",
       " [1643241600000, 36870.440166930995],\n",
       " [1643328000000, 37276.839558174994],\n",
       " [1643414400000, 37852.57902803263],\n",
       " [1643500800000, 38232.17873217708],\n",
       " [1643587200000, 37983.151499406464],\n",
       " [1643673600000, 38555.53446121157],\n",
       " [1643681150000, 38304.15901331096]]"
      ]
     },
     "execution_count": 178,
     "metadata": {},
     "output_type": "execute_result"
    }
   ],
   "source": [
    "btc_price = btc['prices']\n",
    "btc_price"
   ]
  },
  {
   "cell_type": "code",
   "execution_count": 179,
   "id": "79a1e7e6",
   "metadata": {},
   "outputs": [
    {
     "data": {
      "text/plain": [
       "dict_keys(['prices', 'market_caps', 'total_volumes'])"
      ]
     },
     "execution_count": 179,
     "metadata": {},
     "output_type": "execute_result"
    }
   ],
   "source": [
    "btc.keys()"
   ]
  },
  {
   "cell_type": "code",
   "execution_count": 180,
   "id": "a0f70ec7",
   "metadata": {},
   "outputs": [
    {
     "data": {
      "text/plain": [
       "list"
      ]
     },
     "execution_count": 180,
     "metadata": {},
     "output_type": "execute_result"
    }
   ],
   "source": [
    "type(btc['prices'][0])"
   ]
  },
  {
   "cell_type": "code",
   "execution_count": 181,
   "id": "3cf3488c",
   "metadata": {},
   "outputs": [
    {
     "data": {
      "text/html": [
       "<div>\n",
       "<style scoped>\n",
       "    .dataframe tbody tr th:only-of-type {\n",
       "        vertical-align: middle;\n",
       "    }\n",
       "\n",
       "    .dataframe tbody tr th {\n",
       "        vertical-align: top;\n",
       "    }\n",
       "\n",
       "    .dataframe thead th {\n",
       "        text-align: right;\n",
       "    }\n",
       "</style>\n",
       "<table border=\"1\" class=\"dataframe\">\n",
       "  <thead>\n",
       "    <tr style=\"text-align: right;\">\n",
       "      <th></th>\n",
       "      <th>DATE</th>\n",
       "      <th>PRICE</th>\n",
       "    </tr>\n",
       "  </thead>\n",
       "  <tbody>\n",
       "    <tr>\n",
       "      <th>0</th>\n",
       "      <td>1642896000000</td>\n",
       "      <td>35180.435463</td>\n",
       "    </tr>\n",
       "    <tr>\n",
       "      <th>1</th>\n",
       "      <td>1642982400000</td>\n",
       "      <td>36306.409440</td>\n",
       "    </tr>\n",
       "    <tr>\n",
       "      <th>2</th>\n",
       "      <td>1643068800000</td>\n",
       "      <td>36774.007142</td>\n",
       "    </tr>\n",
       "    <tr>\n",
       "      <th>3</th>\n",
       "      <td>1643155200000</td>\n",
       "      <td>36988.928511</td>\n",
       "    </tr>\n",
       "    <tr>\n",
       "      <th>4</th>\n",
       "      <td>1643241600000</td>\n",
       "      <td>36870.440167</td>\n",
       "    </tr>\n",
       "    <tr>\n",
       "      <th>5</th>\n",
       "      <td>1643328000000</td>\n",
       "      <td>37276.839558</td>\n",
       "    </tr>\n",
       "    <tr>\n",
       "      <th>6</th>\n",
       "      <td>1643414400000</td>\n",
       "      <td>37852.579028</td>\n",
       "    </tr>\n",
       "    <tr>\n",
       "      <th>7</th>\n",
       "      <td>1643500800000</td>\n",
       "      <td>38232.178732</td>\n",
       "    </tr>\n",
       "    <tr>\n",
       "      <th>8</th>\n",
       "      <td>1643587200000</td>\n",
       "      <td>37983.151499</td>\n",
       "    </tr>\n",
       "    <tr>\n",
       "      <th>9</th>\n",
       "      <td>1643673600000</td>\n",
       "      <td>38555.534461</td>\n",
       "    </tr>\n",
       "    <tr>\n",
       "      <th>10</th>\n",
       "      <td>1643681150000</td>\n",
       "      <td>38304.159013</td>\n",
       "    </tr>\n",
       "  </tbody>\n",
       "</table>\n",
       "</div>"
      ],
      "text/plain": [
       "             DATE         PRICE\n",
       "0   1642896000000  35180.435463\n",
       "1   1642982400000  36306.409440\n",
       "2   1643068800000  36774.007142\n",
       "3   1643155200000  36988.928511\n",
       "4   1643241600000  36870.440167\n",
       "5   1643328000000  37276.839558\n",
       "6   1643414400000  37852.579028\n",
       "7   1643500800000  38232.178732\n",
       "8   1643587200000  37983.151499\n",
       "9   1643673600000  38555.534461\n",
       "10  1643681150000  38304.159013"
      ]
     },
     "execution_count": 181,
     "metadata": {},
     "output_type": "execute_result"
    }
   ],
   "source": [
    "#dataframe\n",
    "df = pd.DataFrame(btc_price, columns = ['DATE','PRICE' ])\n",
    " \n",
    "df"
   ]
  },
  {
   "cell_type": "code",
   "execution_count": 182,
   "id": "f6e07c6b",
   "metadata": {},
   "outputs": [
    {
     "data": {
      "text/plain": [
       "['2022-01-23',\n",
       " '2022-01-24',\n",
       " '2022-01-25',\n",
       " '2022-01-26',\n",
       " '2022-01-27',\n",
       " '2022-01-28',\n",
       " '2022-01-29',\n",
       " '2022-01-30',\n",
       " '2022-01-31',\n",
       " '2022-02-01',\n",
       " '2022-02-01']"
      ]
     },
     "execution_count": 182,
     "metadata": {},
     "output_type": "execute_result"
    }
   ],
   "source": [
    "#loop\n",
    "#drop values\n",
    "unix_list= []\n",
    "for i in df['DATE']:\n",
    "    i = str(i)\n",
    "    i= i[0:10]\n",
    "    i = int(i)\n",
    "    i = datetime.utcfromtimestamp(i).strftime('%Y-%m-%d')\n",
    "    unix_list.append(i)\n",
    "    \n",
    "unix_list"
   ]
  },
  {
   "cell_type": "code",
   "execution_count": 183,
   "id": "42efa83d",
   "metadata": {},
   "outputs": [
    {
     "data": {
      "text/plain": [
       "0    2022-01-23\n",
       "1    2022-01-24\n",
       "2    2022-01-25\n",
       "3    2022-01-26\n",
       "4    2022-01-27\n",
       "Name: DATE, dtype: object"
      ]
     },
     "execution_count": 183,
     "metadata": {},
     "output_type": "execute_result"
    }
   ],
   "source": [
    "df['DATE']= unix_list\n",
    "df['DATE'].head()"
   ]
  },
  {
   "cell_type": "code",
   "execution_count": 184,
   "id": "6414cd8c",
   "metadata": {},
   "outputs": [
    {
     "data": {
      "text/html": [
       "<div>\n",
       "<style scoped>\n",
       "    .dataframe tbody tr th:only-of-type {\n",
       "        vertical-align: middle;\n",
       "    }\n",
       "\n",
       "    .dataframe tbody tr th {\n",
       "        vertical-align: top;\n",
       "    }\n",
       "\n",
       "    .dataframe thead th {\n",
       "        text-align: right;\n",
       "    }\n",
       "</style>\n",
       "<table border=\"1\" class=\"dataframe\">\n",
       "  <thead>\n",
       "    <tr style=\"text-align: right;\">\n",
       "      <th></th>\n",
       "      <th>DATE</th>\n",
       "      <th>PRICE</th>\n",
       "    </tr>\n",
       "  </thead>\n",
       "  <tbody>\n",
       "    <tr>\n",
       "      <th>0</th>\n",
       "      <td>2022-01-23</td>\n",
       "      <td>35180.435463</td>\n",
       "    </tr>\n",
       "    <tr>\n",
       "      <th>1</th>\n",
       "      <td>2022-01-24</td>\n",
       "      <td>36306.409440</td>\n",
       "    </tr>\n",
       "    <tr>\n",
       "      <th>2</th>\n",
       "      <td>2022-01-25</td>\n",
       "      <td>36774.007142</td>\n",
       "    </tr>\n",
       "    <tr>\n",
       "      <th>3</th>\n",
       "      <td>2022-01-26</td>\n",
       "      <td>36988.928511</td>\n",
       "    </tr>\n",
       "    <tr>\n",
       "      <th>4</th>\n",
       "      <td>2022-01-27</td>\n",
       "      <td>36870.440167</td>\n",
       "    </tr>\n",
       "    <tr>\n",
       "      <th>5</th>\n",
       "      <td>2022-01-28</td>\n",
       "      <td>37276.839558</td>\n",
       "    </tr>\n",
       "    <tr>\n",
       "      <th>6</th>\n",
       "      <td>2022-01-29</td>\n",
       "      <td>37852.579028</td>\n",
       "    </tr>\n",
       "    <tr>\n",
       "      <th>7</th>\n",
       "      <td>2022-01-30</td>\n",
       "      <td>38232.178732</td>\n",
       "    </tr>\n",
       "    <tr>\n",
       "      <th>8</th>\n",
       "      <td>2022-01-31</td>\n",
       "      <td>37983.151499</td>\n",
       "    </tr>\n",
       "    <tr>\n",
       "      <th>9</th>\n",
       "      <td>2022-02-01</td>\n",
       "      <td>38555.534461</td>\n",
       "    </tr>\n",
       "    <tr>\n",
       "      <th>10</th>\n",
       "      <td>2022-02-01</td>\n",
       "      <td>38304.159013</td>\n",
       "    </tr>\n",
       "  </tbody>\n",
       "</table>\n",
       "</div>"
      ],
      "text/plain": [
       "          DATE         PRICE\n",
       "0   2022-01-23  35180.435463\n",
       "1   2022-01-24  36306.409440\n",
       "2   2022-01-25  36774.007142\n",
       "3   2022-01-26  36988.928511\n",
       "4   2022-01-27  36870.440167\n",
       "5   2022-01-28  37276.839558\n",
       "6   2022-01-29  37852.579028\n",
       "7   2022-01-30  38232.178732\n",
       "8   2022-01-31  37983.151499\n",
       "9   2022-02-01  38555.534461\n",
       "10  2022-02-01  38304.159013"
      ]
     },
     "execution_count": 184,
     "metadata": {},
     "output_type": "execute_result"
    }
   ],
   "source": [
    "df\n"
   ]
  },
  {
   "cell_type": "code",
   "execution_count": null,
   "id": "b17f23db",
   "metadata": {},
   "outputs": [],
   "source": [
    "df['DataFrame Column'] = df['DataFrame Column'].apply(str)"
   ]
  }
 ],
 "metadata": {
  "kernelspec": {
   "display_name": "Python 3 (ipykernel)",
   "language": "python",
   "name": "python3"
  },
  "language_info": {
   "codemirror_mode": {
    "name": "ipython",
    "version": 3
   },
   "file_extension": ".py",
   "mimetype": "text/x-python",
   "name": "python",
   "nbconvert_exporter": "python",
   "pygments_lexer": "ipython3",
   "version": "3.7.11"
  }
 },
 "nbformat": 4,
 "nbformat_minor": 5
}
