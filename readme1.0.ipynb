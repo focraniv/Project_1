{
 "cells": [
  {
   "cell_type": "code",
   "execution_count": null,
   "id": "dbf69400",
   "metadata": {},
   "outputs": [],
   "source": [
    "#Project 1\n",
    "#Devs: Joey Dima, Juan Raigosa, Francis Ocran IV, Thomas Guyton\n",
    "\n",
    "#Mission:"
   ]
  }
 ],
 "metadata": {
  "kernelspec": {
   "display_name": "Python [conda env:dev]",
   "language": "python",
   "name": "conda-env-dev-py"
  },
  "language_info": {
   "codemirror_mode": {
    "name": "ipython",
    "version": 3
   },
   "file_extension": ".py",
   "mimetype": "text/x-python",
   "name": "python",
   "nbconvert_exporter": "python",
   "pygments_lexer": "ipython3",
   "version": "3.7.11"
  }
 },
 "nbformat": 4,
 "nbformat_minor": 5
}
